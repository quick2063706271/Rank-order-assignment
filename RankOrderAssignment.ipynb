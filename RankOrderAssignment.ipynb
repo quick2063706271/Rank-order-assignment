{
 "cells": [
  {
   "cell_type": "markdown",
   "id": "eef2c410",
   "metadata": {},
   "source": [
    "# EN.580.637 Homework"
   ]
  },
  {
   "cell_type": "markdown",
   "id": "2a2ff5d4",
   "metadata": {},
   "source": [
    "Goal: The goal of the project will be to write a piece of software (possible languages are\n",
    "Python, Julia, and MATLAB), that matches N patients with K doctors. Each patient is allowed to\n",
    "provide a ranked list of their preference for doctors, however doctors are prohibited from\n",
    "displaying preferences for patients. Thus the code should takes in the following:\n",
    "\n",
    "● A list of ranked preferences, 1 list for each patient\n",
    "\n",
    "● A maximum capacity for each doctor (can initially assume the same capacity - note the\n",
    "total capacity should exceed the number of patients\n",
    "And the code should return:\n",
    "\n",
    "● A list of assignments indicating which doctors are to take care of which patients\n",
    "\n",
    "Details: For this assignment please work in groups of at most 3 individuals. Teams can choose\n",
    "to implement a classical algorithm, such as the Hungarian algorithm, however other algorithms\n",
    "are also acceptable, including any of a number of auction or transport optimization algorithms in\n",
    "the literature. The code should be include:\n",
    "\n",
    "1. A Github repository housing all the code synced amongst the group\n",
    "2. Commented and documented code, including references and an explanation of the\n",
    "algorithm implemented\n",
    "3. A functioning demo script (can be a jupytr notebook)"
   ]
  },
  {
   "cell_type": "markdown",
   "id": "1dd0f96e",
   "metadata": {},
   "source": [
    "## Import Packages"
   ]
  },
  {
   "cell_type": "code",
   "execution_count": 10,
   "id": "b86978f9",
   "metadata": {},
   "outputs": [],
   "source": [
    "import numpy as np\n",
    "from scipy.optimize import linear_sum_assignment"
   ]
  },
  {
   "cell_type": "code",
   "execution_count": 11,
   "id": "bab879c3",
   "metadata": {},
   "outputs": [],
   "source": []
  },
  {
   "cell_type": "markdown",
   "id": "581057ed",
   "metadata": {},
   "source": [
    "## Load Example"
   ]
  },
  {
   "cell_type": "markdown",
   "id": "86d1dcf8",
   "metadata": {},
   "source": [
    "Here is a example:\n",
    "* Assuming each patient has a unqiue preference to each doctor\n",
    "* doctors_capacity indicates each doctor's max capacity for patients\n",
    "* preference contains each patient's preference for doctor\n",
    "* 0 is the max preference, len(doctors_capacity)-1 is the least preference"
   ]
  },
  {
   "cell_type": "code",
   "execution_count": 12,
   "id": "db1bc652",
   "metadata": {
    "scrolled": true
   },
   "outputs": [
    {
     "name": "stdout",
     "output_type": "stream",
     "text": [
      "[[0 1 2 3]\n",
      " [0 3 1 2]\n",
      " [1 3 2 0]\n",
      " [3 1 0 2]\n",
      " [3 2 0 1]]\n"
     ]
    }
   ],
   "source": [
    "doctors_capacity = [2, 3, 1, 5]\n",
    "doc_name2id = {0:\"A\", 1:\"B\", 2:\"C\", 3:\"D\"}\n",
    "#rank from 0-3 high to low\n",
    "preference = np.array([[0, 1, 2, 3], [0, 3, 1, 2], [1, 3, 2, 0], [3, 1, 0, 2], [3, 2, 0, 1]])\n",
    "print(preference)"
   ]
  },
  {
   "cell_type": "markdown",
   "id": "978b052e",
   "metadata": {},
   "source": [
    "## Print preference"
   ]
  },
  {
   "cell_type": "code",
   "execution_count": 13,
   "id": "d3ac15ed",
   "metadata": {},
   "outputs": [
    {
     "name": "stdout",
     "output_type": "stream",
     "text": [
      "For patient 0, his or her preference is A>B>C>D\n",
      "For patient 1, his or her preference is A>D>B>C\n",
      "For patient 2, his or her preference is B>D>C>A\n",
      "For patient 3, his or her preference is D>B>A>C\n",
      "For patient 4, his or her preference is D>C>A>B\n"
     ]
    }
   ],
   "source": [
    "for i in range(len(preference)):\n",
    "    pref_each = preference[i]\n",
    "    pref_name = []\n",
    "    for j in pref_each:\n",
    "        pref_name.append(doc_name2id.get(j))\n",
    "    pref_name_list = '>'.join(pref_name)\n",
    "    print(\"For patient %d, his or her preference is %s\" % (i, pref_name_list))"
   ]
  },
  {
   "cell_type": "markdown",
   "id": "d9bd5abc",
   "metadata": {},
   "source": [
    "## replicate columns by doctors' capacities"
   ]
  },
  {
   "cell_type": "markdown",
   "id": "df307ad7",
   "metadata": {},
   "source": [
    "Our program uses hungarian algorithm to achieve matching. One issue that Hungarian algorithm could not achieve is that it could not handle multiple capacity. In order to fix this issue, we multiple the columns with each corresponding capacity. For instance, if a doctor has 4 capacity, we make him 4 columns."
   ]
  },
  {
   "cell_type": "code",
   "execution_count": 14,
   "id": "1fc37935",
   "metadata": {},
   "outputs": [],
   "source": [
    "hungarian_matrix = preference[:, 0]\n",
    "cur_index = 0\n",
    "for i in range(len(doctors_capacity)):\n",
    "    capacity = doctors_capacity[i]\n",
    "    preference = np.insert(preference, \n",
    "                           (capacity - 1) * [cur_index], \n",
    "                           preference[:, [cur_index]],\n",
    "                           axis=1)\n",
    "    cur_index += capacity\n"
   ]
  },
  {
   "cell_type": "code",
   "execution_count": 15,
   "id": "02ff9f33",
   "metadata": {},
   "outputs": [
    {
     "name": "stdout",
     "output_type": "stream",
     "text": [
      "[[0 0 1 1 1 2 3 3 3 3 3]\n",
      " [0 0 3 3 3 1 2 2 2 2 2]\n",
      " [1 1 3 3 3 2 0 0 0 0 0]\n",
      " [3 3 1 1 1 0 2 2 2 2 2]\n",
      " [3 3 2 2 2 0 1 1 1 1 1]]\n"
     ]
    }
   ],
   "source": [
    "print(preference)"
   ]
  },
  {
   "cell_type": "markdown",
   "id": "81384f73",
   "metadata": {},
   "source": [
    "## Run Hungarian algorithm"
   ]
  },
  {
   "cell_type": "markdown",
   "id": "b8fe1e56",
   "metadata": {},
   "source": [
    "* Here we will run Hungarian algorithm coded in the HungarianAlgorithm.py"
   ]
  },
  {
   "cell_type": "code",
   "execution_count": 22,
   "id": "5855c9c7",
   "metadata": {},
   "outputs": [],
   "source": [
    "from HungarianAlgorithm import *"
   ]
  },
  {
   "cell_type": "code",
   "execution_count": 23,
   "id": "a6866a78",
   "metadata": {},
   "outputs": [
    {
     "name": "stdout",
     "output_type": "stream",
     "text": [
      "[(0, 1), (1, 0), (2, 6), (3, 2), (4, 5)]\n"
     ]
    }
   ],
   "source": [
    "result = hungarian_algorithm(preference)\n",
    "sorted_by_second = sorted(result, key=lambda tup: tup[0])\n",
    "print(sorted_by_second)"
   ]
  },
  {
   "cell_type": "code",
   "execution_count": 24,
   "id": "8a081875",
   "metadata": {},
   "outputs": [
    {
     "name": "stdout",
     "output_type": "stream",
     "text": [
      "[0 1 2 3 4]\n",
      "[0 1 6 2 5]\n"
     ]
    }
   ],
   "source": [
    "row_ind, col_ind = linear_sum_assignment(preference)\n",
    "print(row_ind)\n",
    "print(col_ind)"
   ]
  },
  {
   "cell_type": "code",
   "execution_count": 25,
   "id": "baa85951",
   "metadata": {},
   "outputs": [
    {
     "name": "stdout",
     "output_type": "stream",
     "text": [
      "[2, 5, 6, 11]\n"
     ]
    }
   ],
   "source": [
    "doctors_range = [sum(doctors_capacity[: i]) for i in range(1, len(doctors_capacity) + 1)]\n",
    "print(doctors_range)"
   ]
  },
  {
   "cell_type": "code",
   "execution_count": 26,
   "id": "52f4b860",
   "metadata": {},
   "outputs": [
    {
     "name": "stdout",
     "output_type": "stream",
     "text": [
      "{0: 'A', 1: 'A', 2: 'D', 3: 'B', 4: 'C'}\n"
     ]
    }
   ],
   "source": [
    "result = {}\n",
    "for patient_idx in range(len(sorted_by_second)):\n",
    "    doctor_idx = sorted_by_second[patient_idx][1]\n",
    "    j = 0\n",
    "    while j < len(doctors_range) and doctor_idx >= doctors_range[j]:\n",
    "        j+=1\n",
    "    result[patient_idx] = doc_name2id.get(j)\n",
    "print(result)"
   ]
  },
  {
   "cell_type": "markdown",
   "id": "f114bd16",
   "metadata": {},
   "source": [
    "## Print Result"
   ]
  },
  {
   "cell_type": "code",
   "execution_count": 20,
   "id": "45110cac",
   "metadata": {},
   "outputs": [
    {
     "name": "stdout",
     "output_type": "stream",
     "text": [
      "patient 0 is taken care by doctor A\n",
      "patient 1 is taken care by doctor A\n",
      "patient 2 is taken care by doctor D\n",
      "patient 3 is taken care by doctor B\n",
      "patient 4 is taken care by doctor C\n"
     ]
    }
   ],
   "source": [
    "for patient_idx in range(len(col_ind)):\n",
    "    doctor_idx = col_ind[patient_idx]\n",
    "    j = 0\n",
    "    while j < len(doctors_range) and doctor_idx >= doctors_range[j]:\n",
    "        j+=1\n",
    "    print(\"patient {} is taken care by doctor {}\".format(str(patient_idx), doc_name2id.get(j)))\n",
    "       "
   ]
  },
  {
   "cell_type": "code",
   "execution_count": 33,
   "id": "ba849cbc",
   "metadata": {},
   "outputs": [
    {
     "name": "stdout",
     "output_type": "stream",
     "text": [
      "doctor A takes care of patients [0, 1]\n",
      "doctor D takes care of patients [2]\n",
      "doctor B takes care of patients [3]\n",
      "doctor C takes care of patients [4]\n"
     ]
    }
   ],
   "source": [
    "doctors_to_patients = {}\n",
    "for patient in result.keys():\n",
    "    doctor = result[patient]\n",
    "    if doctor not in doctors_to_patients.keys():\n",
    "        doctors_to_patients[doctor] = []\n",
    "    doctors_to_patients[doctor].append(patient)\n",
    "\n",
    "for doctor in doctors_to_patients.keys():\n",
    "    print(\"doctor {} takes care of patients {}\".format(doctor, str(doctors_to_patients[doctor])))"
   ]
  },
  {
   "cell_type": "code",
   "execution_count": 30,
   "id": "0d5cf708",
   "metadata": {},
   "outputs": [
    {
     "data": {
      "text/plain": [
       "dict_values(['A', 'B', 'C', 'D'])"
      ]
     },
     "execution_count": 30,
     "metadata": {},
     "output_type": "execute_result"
    }
   ],
   "source": [
    "doc_name2id.values()"
   ]
  },
  {
   "cell_type": "code",
   "execution_count": null,
   "id": "eaffffeb",
   "metadata": {},
   "outputs": [],
   "source": []
  }
 ],
 "metadata": {
  "kernelspec": {
   "display_name": "Python 3",
   "language": "python",
   "name": "python3"
  },
  "language_info": {
   "codemirror_mode": {
    "name": "ipython",
    "version": 3
   },
   "file_extension": ".py",
   "mimetype": "text/x-python",
   "name": "python",
   "nbconvert_exporter": "python",
   "pygments_lexer": "ipython3",
   "version": "3.8.8"
  },
  "toc": {
   "base_numbering": 1,
   "nav_menu": {},
   "number_sections": true,
   "sideBar": true,
   "skip_h1_title": false,
   "title_cell": "Table of Contents",
   "title_sidebar": "Contents",
   "toc_cell": false,
   "toc_position": {},
   "toc_section_display": true,
   "toc_window_display": false
  },
  "vscode": {
   "interpreter": {
    "hash": "145601843f4ec791e8197759dfe3129248f94872773916947b5efa0d16dbd392"
   }
  }
 },
 "nbformat": 4,
 "nbformat_minor": 5
}
