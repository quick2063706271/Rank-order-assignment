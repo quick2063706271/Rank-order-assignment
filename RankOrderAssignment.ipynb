{
 "cells": [
  {
   "cell_type": "markdown",
   "id": "eef2c410",
   "metadata": {},
   "source": [
    "# EN.580.637 Homework"
   ]
  },
  {
   "cell_type": "markdown",
   "id": "a3b9352f",
   "metadata": {},
   "source": [
    "Author: Kuai Yu, Ruitao Hu, Langxin Yang"
   ]
  },
  {
   "cell_type": "markdown",
   "id": "2a2ff5d4",
   "metadata": {},
   "source": [
    "Goal: The goal of the project will be to write a piece of software (possible languages are\n",
    "Python, Julia, and MATLAB), that matches N patients with K doctors. Each patient is allowed to\n",
    "provide a ranked list of their preference for doctors, however doctors are prohibited from\n",
    "displaying preferences for patients. Thus the code should takes in the following:\n",
    "\n",
    "● A list of ranked preferences, 1 list for each patient\n",
    "\n",
    "● A maximum capacity for each doctor (can initially assume the same capacity - note the\n",
    "total capacity should exceed the number of patients\n",
    "And the code should return:\n",
    "\n",
    "● A list of assignments indicating which doctors are to take care of which patients\n",
    "\n",
    "Details: For this assignment please work in groups of at most 3 individuals. Teams can choose\n",
    "to implement a classical algorithm, such as the Hungarian algorithm, however other algorithms\n",
    "are also acceptable, including any of a number of auction or transport optimization algorithms in\n",
    "the literature. The code should be include:\n",
    "\n",
    "1. A Github repository housing all the code synced amongst the group\n",
    "2. Commented and documented code, including references and an explanation of the\n",
    "algorithm implemented\n",
    "3. A functioning demo script (can be a jupytr notebook)"
   ]
  },
  {
   "cell_type": "markdown",
   "id": "1dd0f96e",
   "metadata": {},
   "source": [
    "## Import Packages"
   ]
  },
  {
   "cell_type": "code",
   "execution_count": 36,
   "id": "b86978f9",
   "metadata": {},
   "outputs": [],
   "source": [
    "import numpy as np"
   ]
  },
  {
   "cell_type": "markdown",
   "id": "581057ed",
   "metadata": {},
   "source": [
    "## Load Example"
   ]
  },
  {
   "cell_type": "markdown",
   "id": "59dcab0a",
   "metadata": {},
   "source": [
    "Here is a example:\n",
    "* Assuming each patient has a unqiue preference to each doctor\n",
    "* doctors_capacity indicates each doctor's max capacity for patients\n",
    "* preference contains each patient's preference for doctor\n",
    "* rank from 0-3 high to low i.e. 0 is the max preference, len(doctors_capacity)-1 is the least preference"
   ]
  },
  {
   "cell_type": "markdown",
   "id": "2340130d",
   "metadata": {},
   "source": [
    "1. Exmaple 1"
   ]
  },
  {
   "cell_type": "code",
   "execution_count": 37,
   "id": "db1bc652",
   "metadata": {
    "scrolled": true
   },
   "outputs": [
    {
     "name": "stdout",
     "output_type": "stream",
     "text": [
      "[[0 1 2 3]\n",
      " [0 3 1 2]\n",
      " [1 3 2 0]\n",
      " [3 1 0 2]\n",
      " [3 2 0 1]]\n",
      "5\n"
     ]
    }
   ],
   "source": [
    "doctors_capacity = [2, 3, 1, 5]\n",
    "doc_name2id = {0: \"A\", 1: \"B\", 2: \"C\", 3: \"D\"}\n",
    "#rank from 0-3 high to low\n",
    "preference = np.array([[0, 1, 2, 3], [0, 3, 1, 2], [1, 3, 2, 0], [3, 1, 0, 2], [3, 2, 0, 1]])\n",
    "num_patient = preference.shape[0]\n",
    "print(preference)\n",
    "print(num_patient)"
   ]
  },
  {
   "cell_type": "markdown",
   "id": "f126006d",
   "metadata": {},
   "source": [
    "2. Example 2"
   ]
  },
  {
   "cell_type": "code",
   "execution_count": 38,
   "id": "cb80932b",
   "metadata": {},
   "outputs": [
    {
     "name": "stdout",
     "output_type": "stream",
     "text": [
      "[[1 2 3 4 5 6 7]\n",
      " [1 4 2 3 7 5 6]\n",
      " [5 7 6 2 4 3 1]\n",
      " [4 2 6 5 7 1 3]\n",
      " [4 3 1 5 6 7 2]\n",
      " [7 6 5 4 3 2 1]]\n"
     ]
    }
   ],
   "source": [
    "doctors_capacity_2 = [2, 3, 1, 5, 1, 2, 2]\n",
    "doc_name2id_2 = {0: \"A\", 1: \"B\", 2: \"C\", 3: \"D\", 4: \"E\", 5: \"F\", 6: \"G\"}\n",
    "#rank from 0-3 high to low\n",
    "preference_2 = np.array([[0, 1, 2, 3, 4, 5, 6], \n",
    "                         [0, 3, 1, 2, 6, 4, 5], \n",
    "                         [4, 6, 5, 1, 3, 2, 0], \n",
    "                         [3, 1, 5, 4, 6, 0, 2], \n",
    "                         [3, 2, 0, 4, 5, 6, 1],\n",
    "                         [6, 5, 4, 3, 2, 1, 0]])\n",
    "num_patient_2 = preference_2.shape[0]\n",
    "print(preference_2 + 1)\n"
   ]
  },
  {
   "cell_type": "markdown",
   "id": "978b052e",
   "metadata": {},
   "source": [
    "## Print preference"
   ]
  },
  {
   "cell_type": "code",
   "execution_count": 39,
   "id": "d3ac15ed",
   "metadata": {},
   "outputs": [
    {
     "name": "stdout",
     "output_type": "stream",
     "text": [
      "For patient 0, his or her preference is A>B>C>D\n",
      "For patient 1, his or her preference is A>D>B>C\n",
      "For patient 2, his or her preference is B>D>C>A\n",
      "For patient 3, his or her preference is D>B>A>C\n",
      "For patient 4, his or her preference is D>C>A>B\n"
     ]
    }
   ],
   "source": [
    "for i in range(len(preference)):\n",
    "    pref_each = preference[i]\n",
    "    pref_name = []\n",
    "    for j in pref_each:\n",
    "        pref_name.append(doc_name2id.get(j))\n",
    "    pref_name_list = '>'.join(pref_name)\n",
    "    print(\"For patient %d, his or her preference is %s\" % (i, pref_name_list))"
   ]
  },
  {
   "cell_type": "markdown",
   "id": "3c9376ac",
   "metadata": {},
   "source": [
    "# Run Demo"
   ]
  },
  {
   "cell_type": "markdown",
   "id": "d9bd5abc",
   "metadata": {},
   "source": [
    "## replicate columns by doctors' capacities"
   ]
  },
  {
   "cell_type": "markdown",
   "id": "e659ffd3",
   "metadata": {},
   "source": [
    "Our program uses hungarian algorithm to achieve matching. One issue that Hungarian algorithm could not achieve is that it could not handle multiple capacity. In order to fix this issue, we multiple the columns with each corresponding capacity. For instance, if a doctor has 4 capacity, we make him 4 columns. This is coded as function `load_preference`."
   ]
  },
  {
   "cell_type": "markdown",
   "id": "d7c94996",
   "metadata": {},
   "source": [
    "* Here we will run Hungarian algorithm coded in the HungarianAlgorithm.py"
   ]
  },
  {
   "cell_type": "code",
   "execution_count": 40,
   "id": "00725fc2",
   "metadata": {},
   "outputs": [],
   "source": [
    "from HungarianAlgorithm import *"
   ]
  },
  {
   "cell_type": "code",
   "execution_count": 41,
   "id": "1fc37935",
   "metadata": {},
   "outputs": [
    {
     "name": "stdout",
     "output_type": "stream",
     "text": [
      "Help on function load_preference in module HungarianAlgorithm:\n",
      "\n",
      "load_preference(preference_before, doctors_capacity)\n",
      "    Replicate columns in matrix according to different doctors_capacity, and pad matrix with max value to achieve\n",
      "    a square matrix\n",
      "    \n",
      "    :param doctors_capacity:\n",
      "    :param preference: a numpy matrix\n",
      "    :return: a modified matrix\n",
      "\n"
     ]
    }
   ],
   "source": [
    "help(load_preference)"
   ]
  },
  {
   "cell_type": "markdown",
   "id": "b551c2a4",
   "metadata": {},
   "source": [
    "1. example 1"
   ]
  },
  {
   "cell_type": "code",
   "execution_count": 42,
   "id": "02ff9f33",
   "metadata": {},
   "outputs": [
    {
     "name": "stdout",
     "output_type": "stream",
     "text": [
      "[[0 0 1 1 1 2 3 3 3 3 3]\n",
      " [0 0 3 3 3 1 2 2 2 2 2]\n",
      " [1 1 3 3 3 2 0 0 0 0 0]\n",
      " [3 3 1 1 1 0 2 2 2 2 2]\n",
      " [3 3 2 2 2 0 1 1 1 1 1]\n",
      " [3 3 3 3 3 3 3 3 3 3 3]\n",
      " [3 3 3 3 3 3 3 3 3 3 3]\n",
      " [3 3 3 3 3 3 3 3 3 3 3]\n",
      " [3 3 3 3 3 3 3 3 3 3 3]\n",
      " [3 3 3 3 3 3 3 3 3 3 3]\n",
      " [3 3 3 3 3 3 3 3 3 3 3]]\n"
     ]
    }
   ],
   "source": [
    "preference = load_preference(preference, doctors_capacity)\n",
    "print(preference)"
   ]
  },
  {
   "cell_type": "markdown",
   "id": "7b59cb35",
   "metadata": {},
   "source": [
    "2. example 2"
   ]
  },
  {
   "cell_type": "code",
   "execution_count": 43,
   "id": "02557357",
   "metadata": {},
   "outputs": [
    {
     "name": "stdout",
     "output_type": "stream",
     "text": [
      "[[0 0 1 1 1 2 3 3 3 3 3 4 5 5 6 6]\n",
      " [0 0 3 3 3 1 2 2 2 2 2 6 4 4 5 5]\n",
      " [4 4 6 6 6 5 1 1 1 1 1 3 2 2 0 0]\n",
      " [3 3 1 1 1 5 4 4 4 4 4 6 0 0 2 2]\n",
      " [3 3 2 2 2 0 4 4 4 4 4 5 6 6 1 1]\n",
      " [6 6 5 5 5 4 3 3 3 3 3 2 1 1 0 0]\n",
      " [6 6 6 6 6 6 6 6 6 6 6 6 6 6 6 6]\n",
      " [6 6 6 6 6 6 6 6 6 6 6 6 6 6 6 6]\n",
      " [6 6 6 6 6 6 6 6 6 6 6 6 6 6 6 6]\n",
      " [6 6 6 6 6 6 6 6 6 6 6 6 6 6 6 6]\n",
      " [6 6 6 6 6 6 6 6 6 6 6 6 6 6 6 6]\n",
      " [6 6 6 6 6 6 6 6 6 6 6 6 6 6 6 6]\n",
      " [6 6 6 6 6 6 6 6 6 6 6 6 6 6 6 6]\n",
      " [6 6 6 6 6 6 6 6 6 6 6 6 6 6 6 6]\n",
      " [6 6 6 6 6 6 6 6 6 6 6 6 6 6 6 6]\n",
      " [6 6 6 6 6 6 6 6 6 6 6 6 6 6 6 6]]\n"
     ]
    }
   ],
   "source": [
    "preference_2 = load_preference(preference_2, doctors_capacity_2)\n",
    "print(preference_2)"
   ]
  },
  {
   "cell_type": "markdown",
   "id": "81384f73",
   "metadata": {},
   "source": [
    "## Run Hungarian algorithm"
   ]
  },
  {
   "cell_type": "markdown",
   "id": "29a0d739",
   "metadata": {},
   "source": [
    "We use `hungarian_algorithm` to run the linear assignment"
   ]
  },
  {
   "cell_type": "code",
   "execution_count": 44,
   "id": "5b12e962",
   "metadata": {},
   "outputs": [
    {
     "name": "stdout",
     "output_type": "stream",
     "text": [
      "Help on function hungarian_algorithm in module HungarianAlgorithm:\n",
      "\n",
      "hungarian_algorithm(matrix)\n",
      "    Return the result of linear assignment from matrix using hungarian algorithm\n",
      "    \n",
      "    :param matrix: a numpy matrix\n",
      "    :return: indices that optimizes the the linear assignment problem\n",
      "\n"
     ]
    }
   ],
   "source": [
    "help(hungarian_algorithm)"
   ]
  },
  {
   "cell_type": "markdown",
   "id": "22270c30",
   "metadata": {},
   "source": [
    "1. example 1"
   ]
  },
  {
   "cell_type": "code",
   "execution_count": 53,
   "id": "a6866a78",
   "metadata": {},
   "outputs": [
    {
     "data": {
      "text/plain": [
       "[(0, 0),\n",
       " (1, 1),\n",
       " (3, 2),\n",
       " (2, 6),\n",
       " (4, 5),\n",
       " (5, 3),\n",
       " (6, 4),\n",
       " (7, 7),\n",
       " (8, 8),\n",
       " (9, 9),\n",
       " (10, 10)]"
      ]
     },
     "execution_count": 53,
     "metadata": {},
     "output_type": "execute_result"
    }
   ],
   "source": [
    "result = hungarian_algorithm(preference)\n",
    "result"
   ]
  },
  {
   "cell_type": "markdown",
   "id": "9641952c",
   "metadata": {},
   "source": [
    "* Use transform_result to remove additional padding"
   ]
  },
  {
   "cell_type": "code",
   "execution_count": 54,
   "id": "0d4cb263",
   "metadata": {},
   "outputs": [
    {
     "name": "stdout",
     "output_type": "stream",
     "text": [
      "Help on function transform_result in module HungarianAlgorithm:\n",
      "\n",
      "transform_result(result, doctors_capacity, doc_name2id, num_patient)\n",
      "    Transform result into a dictionary(patient: doctor) and remove padding value\n",
      "    :param result: result matrix from Hungarian algorithm\n",
      "    :param doctors_capacity: dictionary contains doctor capacity\n",
      "    :param doc_name2id: dictionary contains name to doctor index\n",
      "    :param num_patient: number of patients\n",
      "    :return: a dictionary(patient: doctor)\n",
      "\n"
     ]
    }
   ],
   "source": [
    "help(transform_result)"
   ]
  },
  {
   "cell_type": "code",
   "execution_count": 47,
   "id": "8d125ed9",
   "metadata": {},
   "outputs": [],
   "source": [
    "final_result = transform_result(result, doctors_capacity, doc_name2id, num_patient)"
   ]
  },
  {
   "cell_type": "code",
   "execution_count": 48,
   "id": "b06f4274",
   "metadata": {},
   "outputs": [
    {
     "data": {
      "text/plain": [
       "{0: 'A', 1: 'A', 2: 'D', 3: 'B', 4: 'C'}"
      ]
     },
     "execution_count": 48,
     "metadata": {},
     "output_type": "execute_result"
    }
   ],
   "source": [
    "final_result"
   ]
  },
  {
   "cell_type": "markdown",
   "id": "04c9702d",
   "metadata": {},
   "source": [
    "2. example 2"
   ]
  },
  {
   "cell_type": "code",
   "execution_count": 49,
   "id": "b4f2cd1d",
   "metadata": {},
   "outputs": [
    {
     "data": {
      "text/plain": [
       "{0: 'A', 1: 'A', 2: 'G', 3: 'F', 4: 'C', 5: 'G'}"
      ]
     },
     "execution_count": 49,
     "metadata": {},
     "output_type": "execute_result"
    }
   ],
   "source": [
    "result_2 = hungarian_algorithm(preference_2)\n",
    "final_result_2 = transform_result(result_2, doctors_capacity_2, doc_name2id_2, num_patient_2)\n",
    "final_result_2"
   ]
  },
  {
   "cell_type": "markdown",
   "id": "f114bd16",
   "metadata": {},
   "source": [
    "## Print Result"
   ]
  },
  {
   "cell_type": "markdown",
   "id": "9226882f",
   "metadata": {},
   "source": [
    "* Here we display the result of our program"
   ]
  },
  {
   "cell_type": "markdown",
   "id": "87abdfc1",
   "metadata": {},
   "source": [
    "1. example 1"
   ]
  },
  {
   "cell_type": "code",
   "execution_count": 50,
   "id": "45110cac",
   "metadata": {},
   "outputs": [
    {
     "name": "stdout",
     "output_type": "stream",
     "text": [
      "patient 0 is taken care by doctor A\n",
      "patient 1 is taken care by doctor A\n",
      "patient 2 is taken care by doctor D\n",
      "patient 3 is taken care by doctor B\n",
      "patient 4 is taken care by doctor C\n"
     ]
    }
   ],
   "source": [
    "for patient_idx in final_result.keys():  \n",
    "    print(\"patient {} is taken care by doctor {}\".format(str(patient_idx), final_result[patient_idx]))\n",
    "       "
   ]
  },
  {
   "cell_type": "code",
   "execution_count": 51,
   "id": "ba849cbc",
   "metadata": {},
   "outputs": [
    {
     "name": "stdout",
     "output_type": "stream",
     "text": [
      "doctor A takes care of patients [0, 1]\n",
      "doctor D takes care of patients [2]\n",
      "doctor B takes care of patients [3]\n",
      "doctor C takes care of patients [4]\n"
     ]
    }
   ],
   "source": [
    "doctors_to_patients = {}\n",
    "for patient in final_result.keys():\n",
    "    doctor = final_result[patient]\n",
    "    if doctor not in doctors_to_patients.keys():\n",
    "        doctors_to_patients[doctor] = []\n",
    "    doctors_to_patients[doctor].append(patient)\n",
    "\n",
    "for doctor in doctors_to_patients.keys():\n",
    "    print(\"doctor {} takes care of patients {}\".format(doctor, str(doctors_to_patients[doctor])))"
   ]
  },
  {
   "cell_type": "markdown",
   "id": "49271f8b",
   "metadata": {},
   "source": [
    "2. example 2"
   ]
  },
  {
   "cell_type": "code",
   "execution_count": 52,
   "id": "e5678723",
   "metadata": {},
   "outputs": [
    {
     "name": "stdout",
     "output_type": "stream",
     "text": [
      "patient 0 is taken care by doctor A\n",
      "patient 1 is taken care by doctor A\n",
      "patient 2 is taken care by doctor G\n",
      "patient 3 is taken care by doctor F\n",
      "patient 4 is taken care by doctor C\n",
      "patient 5 is taken care by doctor G\n",
      "doctor A takes care of patients [0, 1]\n",
      "doctor G takes care of patients [2, 5]\n",
      "doctor F takes care of patients [3]\n",
      "doctor C takes care of patients [4]\n"
     ]
    }
   ],
   "source": [
    "for patient_idx in final_result_2.keys():  \n",
    "    print(\"patient {} is taken care by doctor {}\".format(str(patient_idx), final_result_2[patient_idx]))\n",
    "doctors_to_patients_2 = {}\n",
    "for patient in final_result_2.keys():\n",
    "    doctor = final_result_2[patient]\n",
    "    if doctor not in doctors_to_patients_2.keys():\n",
    "        doctors_to_patients_2[doctor] = []\n",
    "    doctors_to_patients_2[doctor].append(patient)\n",
    "\n",
    "for doctor in doctors_to_patients_2.keys():\n",
    "    print(\"doctor {} takes care of patients {}\".format(doctor, str(doctors_to_patients_2[doctor])))"
   ]
  },
  {
   "cell_type": "markdown",
   "id": "28e73ed8",
   "metadata": {},
   "source": [
    "# Reference"
   ]
  },
  {
   "cell_type": "markdown",
   "id": "408a99be",
   "metadata": {},
   "source": [
    "Eason, E. 2021. Hungarian algorithm Introduction &amp; Python implementation. Medium. https://python.plainenglish.io/hungarian-algorithm-introduction-python-implementation-93e7c0890e15 \n",
    "\n",
    "Kuhn, H.W., 1955. The Hungarian method for the assignment problem. Naval Research Logistics Quarterly 2, 83–97.. doi:10.1002/nav.3800020109\n",
    "\n",
    "Harris, C.R., Millman, K.J., van der Walt, S.J. et al. 2020. Array programming with NumPy. Nature 585, 357–362 . \n",
    "doi: 10.1038/s41586-020-2649-2. (Publisher link).\n"
   ]
  }
 ],
 "metadata": {
  "kernelspec": {
   "display_name": "Python 3",
   "language": "python",
   "name": "python3"
  },
  "language_info": {
   "codemirror_mode": {
    "name": "ipython",
    "version": 3
   },
   "file_extension": ".py",
   "mimetype": "text/x-python",
   "name": "python",
   "nbconvert_exporter": "python",
   "pygments_lexer": "ipython3",
   "version": "3.8.8"
  },
  "toc": {
   "base_numbering": 1,
   "nav_menu": {},
   "number_sections": true,
   "sideBar": true,
   "skip_h1_title": false,
   "title_cell": "Table of Contents",
   "title_sidebar": "Contents",
   "toc_cell": false,
   "toc_position": {},
   "toc_section_display": true,
   "toc_window_display": false
  },
  "vscode": {
   "interpreter": {
    "hash": "145601843f4ec791e8197759dfe3129248f94872773916947b5efa0d16dbd392"
   }
  }
 },
 "nbformat": 4,
 "nbformat_minor": 5
}
